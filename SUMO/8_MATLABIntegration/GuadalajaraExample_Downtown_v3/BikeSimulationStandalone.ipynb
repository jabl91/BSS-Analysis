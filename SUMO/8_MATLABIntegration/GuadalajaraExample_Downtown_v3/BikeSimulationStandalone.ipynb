{
 "cells": [
  {
   "cell_type": "code",
   "execution_count": 1,
   "metadata": {},
   "outputs": [],
   "source": [
    "from BikeStationCDF import BikeStationCDF as BSCDF\n",
    "from BikeStations import BikeStationNetwork as BSN\n",
    "from BikeRelocationScheme import BikeRelocationScheme as BRS\n",
    "\n",
    "from RouteAnalysis import RouteAnalysis\n",
    "\n",
    "import traci\n",
    "from sumolib import checkBinary\n",
    "\n",
    "from Geometry import GeometryClass\n",
    "\n",
    "import matplotlib.pyplot as plt\n",
    "import numpy as np"
   ]
  },
  {
   "cell_type": "code",
   "execution_count": 2,
   "metadata": {},
   "outputs": [],
   "source": [
    "traci.init(58890)\n",
    "traci.setOrder(2)"
   ]
  },
  {
   "cell_type": "code",
   "execution_count": 3,
   "metadata": {},
   "outputs": [],
   "source": [
    "myBikeNetwork = BSN()"
   ]
  },
  {
   "cell_type": "code",
   "execution_count": 4,
   "metadata": {},
   "outputs": [],
   "source": [
    "RouteAnalysisSUMO = RouteAnalysis()"
   ]
  },
  {
   "cell_type": "code",
   "execution_count": 129,
   "metadata": {},
   "outputs": [],
   "source": [
    "AllStationsIds = myBikeNetwork.getAllStationOnNetwork()\n",
    "RelocationSchemes = BRS(AllStationsIds).getRebalancingWeights()"
   ]
  },
  {
   "cell_type": "code",
   "execution_count": 130,
   "metadata": {},
   "outputs": [],
   "source": [
    "# Station = AllStationsIds[3]\n",
    "# WkDay = 0\n",
    "# RelocationSchemes[Station][WkDay][BRS.C_WEIGHTINDEX]"
   ]
  },
  {
   "cell_type": "code",
   "execution_count": 131,
   "metadata": {},
   "outputs": [],
   "source": [
    "# myBikeNetwork.BikeStationsDict.keys()"
   ]
  },
  {
   "cell_type": "code",
   "execution_count": 132,
   "metadata": {},
   "outputs": [],
   "source": [
    "# myBikeNetwork.getAllStationOnNetwork()"
   ]
  },
  {
   "cell_type": "code",
   "execution_count": null,
   "metadata": {},
   "outputs": [],
   "source": []
  },
  {
   "cell_type": "code",
   "execution_count": 133,
   "metadata": {},
   "outputs": [],
   "source": [
    "# dayItinerary[0][0][0] = 1000\n",
    "#dayItinerary"
   ]
  },
  {
   "cell_type": "code",
   "execution_count": 134,
   "metadata": {},
   "outputs": [],
   "source": [
    "BikeInitialStatus = [s.availableBikes() for s in list(myBikeNetwork.BikeStationsDict.values())]"
   ]
  },
  {
   "cell_type": "code",
   "execution_count": 135,
   "metadata": {},
   "outputs": [],
   "source": [
    "def updateStatusOfStations(time, dayItinerary):\n",
    "    for idx in range(len(dayItinerary)):\n",
    "        for eventsStation in range(len(dayItinerary[idx])):\n",
    "            # StationId retrived from trip timestamps of dayItinerary\n",
    "            StationId = int(dayItinerary[idx][eventsStation][2])\n",
    "            # Process events only when they're equal to time\n",
    "            # times are represented in seconds, they need to be multiplied\n",
    "            # by C_MINUTES_IN_HOUR\n",
    "            if(int(dayItinerary[idx][eventsStation][0] * C_MINUTES_IN_HOUR) == time):\n",
    "                # departure or arrival trip type\n",
    "                tripInstance = dayItinerary[idx][eventsStation]\n",
    "                \n",
    "                if(tripInstance[1] == BSN.C_ARRIVALS_IDX):\n",
    "                    if(myBikeNetwork.getBikeStationObject(\n",
    "                            StationId).pushBike() is False):\n",
    "                        # This should never be the case as the\n",
    "                        # relocation occurs within the scope of\n",
    "                        # push/removeBike()\n",
    "                        print(myBikeNetwork.getBikeStationObject(                            \n",
    "                            StationId).availableBikes())\n",
    "                        raise\n",
    "\n",
    "                else:\n",
    "                    if(myBikeNetwork.getBikeStationObject(\n",
    "                            StationId).removeBike() is False):\n",
    "                        # This should never be the case as the\n",
    "                        # relocation occurs within the scope of\n",
    "                        # push/removeBike()\n",
    "                        print(myBikeNetwork.getBikeStationObject(\n",
    "                            StationId).availableBikes())\n",
    "                        raise\n",
    "    "
   ]
  },
  {
   "cell_type": "code",
   "execution_count": 136,
   "metadata": {},
   "outputs": [],
   "source": [
    "def getNetworkRiskStatus(bikeNetwork):\n",
    "    # StatusBike Network -> [StationId, NumberofAvailableBikes]\n",
    "    StatusBikeNetwork = [[int(s), int(bikeNetwork.getBikeStationObject(s).availableBikes())]\n",
    "        for s in bikeNetwork.BikeStationsDict.keys() ]\n",
    "    \n",
    "    data = np.array(StatusBikeNetwork)\n",
    "    \n",
    "    # Identify Risk Stations by applying a formula np.max/min +- 1 whcih has calculated empirically\n",
    "    # to provide a mechanism for Risk Assesment. It's performance is out of the scope of this\n",
    "    # module for now.\n",
    "    \n",
    "    #DockRiskStations -> Stations that have more bikes than docks\n",
    "    DockRiskStations = data[(data[:,1] >= (np.max(data[:,1]) - 1)) & ((data[:,1]) > C_OPTIMAL_LEVEL)]\n",
    "    \n",
    "    #BikeRiskStations -> Stations that have more docks than bikes\n",
    "    BikeRiskStations = data[(data[:,1] <= (np.min(data[:,1]) + 1)) & ((data[:,1]) < C_OPTIMAL_LEVEL)]\n",
    "\n",
    "    return DockRiskStations, BikeRiskStations"
   ]
  },
  {
   "cell_type": "code",
   "execution_count": 137,
   "metadata": {},
   "outputs": [],
   "source": [
    "def upcomingTrips(time, dayItinerary):\n",
    "    dayUpcoming = []\n",
    "    for s in range(len(dayItinerary)):\n",
    "        UpcomingTrips_bool = ((dayItinerary[s][:,0]*60) >= time) & ((dayItinerary[s][:,0]*60) < (time + (0.125*60)))\n",
    "        \n",
    "        # dayUpcoming -> [[list(Trips timestamps)], [dayItinerary bool indexers for location of those trips],\n",
    "        # dayItineraryIdx]\n",
    "        if(dayItinerary[s][UpcomingTrips_bool].size > 0):\n",
    "            dayUpcoming.append([ dayItinerary[s][UpcomingTrips_bool],  UpcomingTrips_bool, s])\n",
    "            \n",
    "    return dayUpcoming"
   ]
  },
  {
   "cell_type": "code",
   "execution_count": 138,
   "metadata": {},
   "outputs": [],
   "source": [
    "def getDistanceBetweenStations(RouteAnalysisSUMO, stationIdEdge1, stationIdEdge2):\n",
    "    p1 = [float(s) for s in RouteAnalysisSUMO.EdgetoEdgeCenter[stationIdEdge1]]\n",
    "    p2 = [float(s) for s in RouteAnalysisSUMO.EdgetoEdgeCenter[stationIdEdge2]]\n",
    "    \n",
    "    return GeometryClass.getDistance(p1,p2)"
   ]
  },
  {
   "cell_type": "code",
   "execution_count": 139,
   "metadata": {},
   "outputs": [],
   "source": [
    "def retrieveRiskMeasurements(BikeRiskStation, UpcomingInfo, myBikeNetwork, RouteAnalysisSUMO):\n",
    "    NearStations = []\n",
    "    UpcomingIdx = []\n",
    "    for i, StationInfo in enumerate(UpcomingInfo):\n",
    "        for j, trip in enumerate(StationInfo[0]):\n",
    "            \n",
    "            # Only departures will be analyzed by this function\n",
    "            if((int(trip[1]) != BSN.C_ARRIVALS_IDX) & (int(trip[3]) in myBikeNetwork.getAllStationOnNetwork())):\n",
    "                distance = \\\n",
    "                    getDistanceBetweenStations(\n",
    "                        RouteAnalysisSUMO, \n",
    "                        myBikeNetwork.StationsOnNetwork.get(int(trip[3])), \n",
    "                        myBikeNetwork.StationsOnNetwork[BikeRiskStation])\n",
    "                \n",
    "                # 400 meters were choosen as per Singla study where this is the\n",
    "                # maximum distance users where willing to change the\n",
    "                # destination station\n",
    "                if((distance < 400.0) & (distance > 5.0)):\n",
    "                    NearStations.append(str(BikeRiskStation))\n",
    "                    UpcomingIdx.append([i, j])\n",
    "                    print(str(BikeRiskStation) + ' replaces: ' + str(int(trip[3])))\n",
    "                    # print('One near station is: ' + str(int(trip[3])) + ' instead of: ' + str(RiskStation))\n",
    "                    \n",
    "    if(NearStations):\n",
    "        # From all posible solutions, only the station with less bikes will be\n",
    "        # selected as it is intended to avoid those stations to be empty\n",
    "        RewardDestinationBikes =\\\n",
    "            [myBikeNetwork.getBikeStationObject(s).availableBikes() for s in NearStations]\n",
    "        Idx = np.where(RewardDestinationBikes == np.min(RewardDestinationBikes))[0][0]\n",
    "    \n",
    "        return NearStations[Idx], UpcomingIdx\n",
    "    \n",
    "    else:\n",
    "        return 0, 0"
   ]
  },
  {
   "cell_type": "code",
   "execution_count": 152,
   "metadata": {},
   "outputs": [
    {
     "name": "stdout",
     "output_type": "stream",
     "text": [
      "57 replaces: 55\n",
      "51 replaces: 62\n",
      "51 replaces: 61\n",
      "51 replaces: 50\n",
      "28 replaces: 10\n",
      "58 replaces: 59\n",
      "29 replaces: 28\n",
      "29 replaces: 34\n",
      "57 replaces: 55\n",
      "58 replaces: 77\n",
      "57 replaces: 55\n",
      "25 replaces: 38\n",
      "25 replaces: 39\n",
      "58 replaces: 54\n",
      "57 replaces: 54\n",
      "25 replaces: 12\n",
      "29 replaces: 28\n",
      "38 replaces: 50\n",
      "38 replaces: 37\n",
      "78 replaces: 77\n",
      "78 replaces: 58\n",
      "57 replaces: 58\n",
      "58 replaces: 59\n",
      "51 replaces: 52\n",
      "51 replaces: 61\n",
      "51 replaces: 50\n",
      "58 replaces: 57\n",
      "78 replaces: 57\n",
      "78 replaces: 57\n",
      "62 replaces: 51\n",
      "51 replaces: 60\n",
      "51 replaces: 52\n",
      "11 replaces: 10\n",
      "11 replaces: 10\n",
      "11 replaces: 27\n",
      "62 replaces: 51\n",
      "62 replaces: 51\n",
      "51 replaces: 62\n",
      "58 replaces: 59\n",
      "58 replaces: 78\n",
      "58 replaces: 57\n",
      "58 replaces: 57\n",
      "62 replaces: 61\n",
      "25 replaces: 12\n",
      "74 replaces: 75\n",
      "61 replaces: 75\n",
      "61 replaces: 76\n",
      "51 replaces: 50\n",
      "51 replaces: 50\n",
      "38 replaces: 50\n",
      "38 replaces: 50\n",
      "38 replaces: 25\n",
      "38 replaces: 37\n",
      "2 replaces: 9\n",
      "61 replaces: 74\n",
      "62 replaces: 74\n",
      "61 replaces: 75\n",
      "61 replaces: 62\n",
      "61 replaces: 74\n",
      "51 replaces: 62\n",
      "62 replaces: 61\n",
      "51 replaces: 61\n",
      "61 replaces: 51\n",
      "61 replaces: 60\n",
      "62 replaces: 51\n",
      "51 replaces: 60\n",
      "61 replaces: 51\n",
      "62 replaces: 51\n",
      "10 replaces: 28\n",
      "10 replaces: 28\n",
      "50 replaces: 39\n",
      "61 replaces: 75\n",
      "11 replaces: 10\n",
      "50 replaces: 51\n",
      "78 replaces: 57\n",
      "58 replaces: 57\n",
      "62 replaces: 51\n",
      "62 replaces: 38\n",
      "50 replaces: 51\n",
      "50 replaces: 38\n",
      "28 replaces: 35\n",
      "50 replaces: 39\n",
      "28 replaces: 27\n",
      "28 replaces: 29\n",
      "62 replaces: 51\n",
      "8 replaces: 29\n",
      "8 replaces: 29\n",
      "51 replaces: 60\n",
      "8 replaces: 29\n",
      "51 replaces: 52\n",
      "51 replaces: 60\n",
      "50 replaces: 51\n",
      "51 replaces: 52\n",
      "51 replaces: 50\n",
      "76 replaces: 53\n",
      "76 replaces: 77\n",
      "76 replaces: 53\n",
      "61 replaces: 75\n",
      "81 replaces: 59\n",
      "61 replaces: 62\n",
      "61 replaces: 62\n",
      "81 replaces: 77\n",
      "78 replaces: 77\n",
      "61 replaces: 51\n",
      "28 replaces: 27\n",
      "10 replaces: 27\n",
      "28 replaces: 35\n",
      "10 replaces: 28\n",
      "58 replaces: 54\n",
      "58 replaces: 54\n",
      "58 replaces: 57\n",
      "81 replaces: 59\n",
      "81 replaces: 9\n",
      "58 replaces: 59\n",
      "58 replaces: 78\n",
      "58 replaces: 54\n",
      "74 replaces: 75\n",
      "61 replaces: 75\n",
      "61 replaces: 74\n",
      "81 replaces: 59\n",
      "61 replaces: 60\n",
      "36 replaces: 54\n",
      "29 replaces: 28\n",
      "27 replaces: 28\n",
      "27 replaces: 26\n",
      "27 replaces: 11\n",
      "74 replaces: 75\n",
      "61 replaces: 75\n",
      "36 replaces: 35\n",
      "31 replaces: 6\n",
      "36 replaces: 35\n",
      "36 replaces: 54\n",
      "61 replaces: 51\n",
      "36 replaces: 54\n",
      "36 replaces: 35\n",
      "36 replaces: 35\n",
      "36 replaces: 53\n",
      "36 replaces: 53\n",
      "36 replaces: 54\n",
      "36 replaces: 53\n",
      "35 replaces: 54\n",
      "35 replaces: 55\n",
      "34 replaces: 35\n",
      "34 replaces: 35\n",
      "34 replaces: 55\n",
      "34 replaces: 29\n",
      "34 replaces: 55\n",
      "34 replaces: 55\n",
      "34 replaces: 54\n",
      "34 replaces: 55\n",
      "34 replaces: 54\n",
      "34 replaces: 54\n",
      "34 replaces: 54\n",
      "34 replaces: 35\n",
      "34 replaces: 54\n",
      "34 replaces: 54\n",
      "34 replaces: 35\n",
      "50 replaces: 62\n",
      "34 replaces: 55\n",
      "55 replaces: 54\n",
      "55 replaces: 57\n",
      "55 replaces: 57\n",
      "34 replaces: 54\n",
      "11 replaces: 10\n",
      "36 replaces: 54\n",
      "34 replaces: 54\n",
      "39 replaces: 38\n",
      "2 replaces: 80\n",
      "38 replaces: 51\n",
      "38 replaces: 37\n",
      "36 replaces: 53\n",
      "36 replaces: 37\n",
      "34 replaces: 55\n",
      "11 replaces: 12\n",
      "11 replaces: 10\n",
      "34 replaces: 55\n",
      "11 replaces: 26\n",
      "34 replaces: 35\n",
      "34 replaces: 35\n",
      "34 replaces: 35\n",
      "53 replaces: 60\n",
      "38 replaces: 51\n",
      "8 replaces: 28\n",
      "2 replaces: 80\n",
      "53 replaces: 52\n",
      "36 replaces: 53\n",
      "36 replaces: 54\n",
      "36 replaces: 53\n",
      "8 replaces: 29\n",
      "53 replaces: 36\n",
      "53 replaces: 36\n",
      "53 replaces: 36\n",
      "36 replaces: 53\n",
      "36 replaces: 54\n",
      "36 replaces: 35\n",
      "36 replaces: 35\n",
      "52 replaces: 51\n",
      "35 replaces: 28\n",
      "74 replaces: 62\n",
      "2 replaces: 80\n",
      "52 replaces: 51\n",
      "36 replaces: 53\n",
      "29 replaces: 34\n",
      "8 replaces: 29\n",
      "8 replaces: 29\n",
      "35 replaces: 36\n",
      "35 replaces: 28\n",
      "26 replaces: 37\n",
      "26 replaces: 52\n",
      "26 replaces: 27\n",
      "8 replaces: 28\n",
      "26 replaces: 52\n",
      "76 replaces: 53\n",
      "34 replaces: 54\n",
      "26 replaces: 37\n",
      "76 replaces: 61\n",
      "76 replaces: 59\n",
      "76 replaces: 59\n",
      "76 replaces: 53\n",
      "76 replaces: 59\n",
      "34 replaces: 35\n",
      "26 replaces: 27\n",
      "26 replaces: 11\n",
      "76 replaces: 53\n",
      "76 replaces: 59\n",
      "36 replaces: 53\n",
      "76 replaces: 59\n",
      "61 replaces: 51\n",
      "36 replaces: 37\n",
      "36 replaces: 37\n",
      "36 replaces: 54\n",
      "76 replaces: 53\n",
      "76 replaces: 81\n",
      "60 replaces: 51\n",
      "60 replaces: 53\n",
      "36 replaces: 53\n",
      "36 replaces: 35\n",
      "36 replaces: 35\n",
      "76 replaces: 60\n",
      "35 replaces: 36\n",
      "35 replaces: 36\n",
      "35 replaces: 36\n",
      "36 replaces: 35\n",
      "36 replaces: 35\n",
      "36 replaces: 54\n",
      "36 replaces: 35\n",
      "34 replaces: 54\n",
      "34 replaces: 35\n",
      "60 replaces: 52\n",
      "52 replaces: 60\n",
      "26 replaces: 52\n",
      "54 replaces: 36\n",
      "54 replaces: 36\n",
      "54 replaces: 35\n",
      "34 replaces: 35\n",
      "34 replaces: 54\n",
      "34 replaces: 54\n",
      "34 replaces: 54\n",
      "61 replaces: 74\n",
      "34 replaces: 35\n",
      "34 replaces: 29\n",
      "60 replaces: 75\n",
      "34 replaces: 54\n",
      "60 replaces: 52\n",
      "34 replaces: 35\n",
      "34 replaces: 54\n",
      "34 replaces: 29\n",
      "26 replaces: 52\n",
      "34 replaces: 35\n",
      "34 replaces: 35\n",
      "26 replaces: 37\n",
      "34 replaces: 55\n",
      "50 replaces: 51\n",
      "50 replaces: 51\n",
      "50 replaces: 38\n",
      "34 replaces: 29\n"
     ]
    }
   ],
   "source": [
    "C_MINUTES_IN_HOUR = 60\n",
    "C_HOURS_IN_DAY = 24\n",
    "C_OPTIMAL_LEVEL = 10 # 10 bikes / 20 docks\n",
    "\n",
    "\n",
    "dayItineraryObject = myBikeNetwork.getDayItinerary(0)\n",
    "dayItinerary = []\n",
    "for s in dayItineraryObject:\n",
    "    dayItinerary.append(s.astype(object))\n",
    "\n",
    "# for idx, _ in enumerate(dayItinerary):\n",
    "#     print('Itinerary for Station: ' + str(dayItinerary[idx][0][2]))\n",
    "\n",
    "\n",
    "\n",
    "myBikeNetwork.resetNetwork()\n",
    "for time in range(C_MINUTES_IN_HOUR*C_HOURS_IN_DAY):\n",
    "#     if(time % (C_MINUTES_IN_HOUR) == 0):\n",
    "    if(time % (int(60 * 0.125)) == 0):\n",
    "        \n",
    "        # Get Most Critical Stations\n",
    "        DockRiskStations, BikeRiskStations = getNetworkRiskStatus(myBikeNetwork)\n",
    "        # Get the itinerary for the next time delta\n",
    "        UpcomingInfo = upcomingTrips(time, dayItinerary)\n",
    "\n",
    "        NearStation = 0\n",
    "        UpcomingIdx = [0, 0]\n",
    "        # print('\\n\\nIt ends ****************')\n",
    "        # print('********************** It begins \\n\\n')\n",
    "        for stationId in BikeRiskStations[:,0]:\n",
    "            NearStation, UpcomingIdx =\\\n",
    "                retrieveRiskMeasurements(\n",
    "                    stationId,\n",
    "                    UpcomingInfo,\n",
    "                    myBikeNetwork,\n",
    "                    RouteAnalysisSUMO)\n",
    "            if(NearStation != 0):\n",
    "                NearStationObject = myBikeNetwork.getBikeStationObject(\n",
    "                    int(NearStation))\n",
    "                ProblemAssesment = C_OPTIMAL_LEVEL - NearStationObject.availableBikes()\n",
    "                # ProblemAssesment = 1\n",
    "                \n",
    "                if((ProblemAssesment >= len(UpcomingIdx)) & (len(UpcomingInfo) > 0)):\n",
    "                    for i, s in enumerate(UpcomingIdx):\n",
    "                        # Index for the three required elements of UpcomingInfo\n",
    "                        # Trip info, dayItineraryTripIndex and dayItineraryIdx\n",
    "                        idx_1 = s[0]\n",
    "                        # Index for the trips that are relevant within the UpcomingInfo\n",
    "                        # element\n",
    "                        idx_2 = s[1]\n",
    "                        dayItineraryIdx = UpcomingInfo[idx_1][2]\n",
    "                        dayItineraryStationIdx = UpcomingInfo[idx_1][1]\n",
    "                        UpcomingTrips = UpcomingInfo[idx_1][0]\n",
    "                        \n",
    "                        # print('Test #1: ' + str(UpcomingInfo[idx_1][0]))\n",
    "                        # print('Test #2: ' + str(dayItinerary[dayItineraryIdx]))\n",
    "                        \n",
    "                        for i, boolIdx in enumerate(dayItineraryStationIdx):\n",
    "                            if(\n",
    "                                (boolIdx == True) & \\\n",
    "                                ((dayItinerary[dayItineraryIdx][i][1]) != BSN.C_ARRIVALS_IDX) &\\\n",
    "                                (UpcomingInfo[idx_1][0][idx_2][3] == dayItinerary[dayItineraryIdx][i][3])):\n",
    "                                \n",
    "                                dayItinerary[dayItineraryIdx][i][3] = float(NearStation)\n",
    "                                \n",
    "                                \n",
    "                        # print('Test #3: ' + str(dayItinerary[dayItineraryIdx])\n",
    "                    \n",
    "    \n",
    "    # Update the Stations based on the dayItinerary provided / modified\n",
    "    updateStatusOfStations(time,dayItinerary)\n",
    "    \n",
    "#     if(time % C_MINUTES_IN_HOUR == 0):\n",
    "#         print('At time: ' + str(time) + ' minutes.') \n",
    "#         print('Dock Risk Stations: ')\n",
    "#         print(DockRiskStations)\n",
    "#         print('Bike Risk Stations: ')\n",
    "#         print(BikeRiskStations)\n",
    "#         print()\n"
   ]
  },
  {
   "cell_type": "code",
   "execution_count": 141,
   "metadata": {
    "scrolled": true
   },
   "outputs": [
    {
     "name": "stdout",
     "output_type": "stream",
     "text": [
      "[('2', 6), ('9', 4), ('80', 3), ('81', 2), ('77', 1), ('75', 7), ('78', 6), ('74', 2), ('76', 0), ('58', 9), ('61', 3), ('59', 2), ('60', 0), ('57', 0), ('62', 3), ('53', 5), ('50', 2), ('51', 12), ('54', 6), ('56', 3), ('55', 2), ('52', 4), ('38', 2), ('36', 0), ('37', 2), ('34', 5), ('35', 3), ('39', 3), ('26', 1), ('25', 0), ('31', 1), ('29', 1), ('27', 3), ('28', 10), ('8', 2), ('6', 0), ('12', 6), ('10', 3), ('11', 8)]\n"
     ]
    }
   ],
   "source": [
    "#Relocation events on every station\n",
    "print([ (s, myBikeNetwork.getBikeStationObject(s).getStationStats()[0]) for s in myBikeNetwork.BikeStationsDict.keys() ])"
   ]
  },
  {
   "cell_type": "code",
   "execution_count": 142,
   "metadata": {},
   "outputs": [
    {
     "name": "stdout",
     "output_type": "stream",
     "text": [
      "<BikeStations.BikeStation object at 0x0000024109656FD0>\n"
     ]
    }
   ],
   "source": [
    "C_BIKESTATION = 2\n",
    "\n",
    "currentBikeStation =\\\n",
    "    myBikeNetwork.getBikeStationObject(C_BIKESTATION)\n",
    "print(currentBikeStation)"
   ]
  },
  {
   "cell_type": "code",
   "execution_count": 143,
   "metadata": {},
   "outputs": [
    {
     "data": {
      "text/plain": [
       "[<matplotlib.lines.Line2D at 0x24142c61d30>]"
      ]
     },
     "execution_count": 143,
     "metadata": {},
     "output_type": "execute_result"
    },
    {
     "data": {
      "image/png": "[encoded data removed]",
      "text/plain": [
       "<Figure size 432x288 with 1 Axes>"
      ]
     },
     "metadata": {
      "needs_background": "light"
     },
     "output_type": "display_data"
    },
    {
     "data": {
      "image/png": "[encoded data removed]",
      "text/plain": [
       "<Figure size 432x288 with 1 Axes>"
      ]
     },
     "metadata": {
      "needs_background": "light"
     },
     "output_type": "display_data"
    }
   ],
   "source": [
    "destinations = \\\n",
    "    list(\n",
    "    currentBikeStation\\\n",
    "    .stationCDFDepartures\\\n",
    "    .wkDayDepartures[0]\\\n",
    "    .Destino_Id)\n",
    "hist, bin_edges = \\\n",
    "    np.histogram(\n",
    "        destinations, bins=np.max(destinations),\n",
    "        density=True)\n",
    "\n",
    "hist = np.append(hist, [0.0])\n",
    "plt.figure(1)\n",
    "plt.title('Station ID Destination of trips from station: ' + str(C_BIKESTATION))\n",
    "plt.plot(bin_edges, hist)\n",
    "plt.figure(2)\n",
    "plt.title('CDF of Station ID Destination of trips from station: ' + str(C_BIKESTATION))\n",
    "plt.plot(bin_edges, BSCDF.computeCDF(hist,bin_edges))\n",
    "\n"
   ]
  },
  {
   "cell_type": "code",
   "execution_count": 144,
   "metadata": {},
   "outputs": [],
   "source": [
    "C_NUMBER_OF_TRIPS = 50\n",
    "C_WEEKDAY = 5\n",
    "\n",
    "Arrivals = np.empty(0)\n",
    "Departures = np.empty(0)\n",
    "for i in range(C_NUMBER_OF_TRIPS):\n",
    "    BikeStationTrips = \\\n",
    "        currentBikeStation.getTripsOnWeekday(C_WEEKDAY)\n",
    "\n",
    "    tArrivals =\\\n",
    "        BikeStationTrips[\n",
    "            BikeStationTrips[:, 1] ==\n",
    "            BSN.C_ARRIVALS_IDX]\n",
    "    Arrivals = np.r_[Arrivals, tArrivals[:,0]]\n",
    "\n",
    "\n",
    "    tDepartures =\\\n",
    "        BikeStationTrips[\n",
    "            BikeStationTrips[:, 1] == \n",
    "            BSN.C_DEPARTURES_IDX]\n",
    "    Departures = np.r_[Departures, tDepartures[:,0]]\n"
   ]
  },
  {
   "cell_type": "code",
   "execution_count": 145,
   "metadata": {},
   "outputs": [
    {
     "data": {
      "text/plain": [
       "array([[ 7.25 ,  1.   ],\n",
       "       [ 7.25 ,  1.   ],\n",
       "       [ 7.375,  1.   ],\n",
       "       [ 7.5  ,  0.   ],\n",
       "       [ 7.625,  1.   ],\n",
       "       [ 8.   ,  0.   ],\n",
       "       [ 8.125,  1.   ],\n",
       "       [ 8.5  ,  1.   ],\n",
       "       [ 8.5  ,  1.   ],\n",
       "       [ 8.5  ,  0.   ],\n",
       "       [ 8.625,  1.   ],\n",
       "       [ 8.75 ,  0.   ],\n",
       "       [ 8.75 ,  0.   ],\n",
       "       [ 8.75 ,  0.   ],\n",
       "       [ 8.75 ,  0.   ],\n",
       "       [ 8.875,  1.   ],\n",
       "       [ 8.875,  0.   ],\n",
       "       [ 9.   ,  0.   ],\n",
       "       [ 9.   ,  0.   ],\n",
       "       [ 9.25 ,  1.   ],\n",
       "       [ 9.5  ,  1.   ],\n",
       "       [ 9.75 ,  1.   ],\n",
       "       [10.125,  0.   ],\n",
       "       [10.125,  0.   ],\n",
       "       [10.75 ,  0.   ],\n",
       "       [11.125,  0.   ],\n",
       "       [11.25 ,  1.   ],\n",
       "       [11.75 ,  0.   ],\n",
       "       [12.125,  1.   ],\n",
       "       [12.375,  1.   ],\n",
       "       [12.625,  1.   ],\n",
       "       [12.625,  0.   ],\n",
       "       [12.75 ,  1.   ],\n",
       "       [12.875,  1.   ],\n",
       "       [12.875,  1.   ],\n",
       "       [12.875,  0.   ],\n",
       "       [13.   ,  1.   ],\n",
       "       [13.125,  1.   ],\n",
       "       [13.25 ,  1.   ],\n",
       "       [13.25 ,  0.   ],\n",
       "       [13.25 ,  1.   ],\n",
       "       [13.25 ,  0.   ],\n",
       "       [13.375,  1.   ],\n",
       "       [13.5  ,  1.   ],\n",
       "       [13.5  ,  0.   ],\n",
       "       [13.625,  1.   ],\n",
       "       [13.625,  1.   ],\n",
       "       [13.75 ,  1.   ],\n",
       "       [13.75 ,  0.   ],\n",
       "       [14.125,  0.   ],\n",
       "       [14.125,  1.   ],\n",
       "       [14.125,  1.   ],\n",
       "       [14.25 ,  1.   ],\n",
       "       [14.5  ,  1.   ],\n",
       "       [14.5  ,  1.   ],\n",
       "       [14.5  ,  0.   ],\n",
       "       [14.5  ,  1.   ],\n",
       "       [14.75 ,  1.   ],\n",
       "       [14.75 ,  1.   ],\n",
       "       [14.75 ,  0.   ],\n",
       "       [14.875,  1.   ],\n",
       "       [14.875,  1.   ],\n",
       "       [14.875,  1.   ],\n",
       "       [15.   ,  0.   ],\n",
       "       [15.   ,  1.   ],\n",
       "       [15.   ,  1.   ],\n",
       "       [15.625,  0.   ],\n",
       "       [15.75 ,  1.   ],\n",
       "       [15.875,  0.   ],\n",
       "       [15.875,  1.   ],\n",
       "       [16.   ,  0.   ],\n",
       "       [16.125,  0.   ],\n",
       "       [16.125,  0.   ],\n",
       "       [16.125,  0.   ],\n",
       "       [16.125,  1.   ],\n",
       "       [16.25 ,  1.   ],\n",
       "       [16.5  ,  1.   ],\n",
       "       [16.625,  1.   ],\n",
       "       [16.625,  0.   ],\n",
       "       [16.75 ,  0.   ],\n",
       "       [16.75 ,  0.   ],\n",
       "       [17.125,  1.   ],\n",
       "       [17.375,  0.   ],\n",
       "       [17.5  ,  0.   ],\n",
       "       [17.5  ,  0.   ],\n",
       "       [17.75 ,  0.   ],\n",
       "       [17.875,  1.   ],\n",
       "       [18.   ,  0.   ],\n",
       "       [18.25 ,  0.   ],\n",
       "       [18.375,  0.   ],\n",
       "       [18.375,  1.   ],\n",
       "       [18.625,  1.   ],\n",
       "       [18.625,  1.   ],\n",
       "       [18.75 ,  1.   ],\n",
       "       [19.125,  0.   ],\n",
       "       [19.125,  1.   ],\n",
       "       [19.375,  0.   ],\n",
       "       [19.5  ,  1.   ],\n",
       "       [20.125,  0.   ],\n",
       "       [20.25 ,  1.   ],\n",
       "       [20.625,  1.   ],\n",
       "       [21.375,  0.   ],\n",
       "       [21.375,  0.   ],\n",
       "       [21.5  ,  0.   ],\n",
       "       [22.75 ,  1.   ],\n",
       "       [22.75 ,  1.   ],\n",
       "       [22.875,  1.   ],\n",
       "       [23.375,  0.   ]])"
      ]
     },
     "execution_count": 145,
     "metadata": {},
     "output_type": "execute_result"
    }
   ],
   "source": [
    "BikeStationTrips"
   ]
  },
  {
   "cell_type": "code",
   "execution_count": 146,
   "metadata": {},
   "outputs": [
    {
     "name": "stdout",
     "output_type": "stream",
     "text": [
      "14.258272800645681\n",
      "14.48955722639933\n"
     ]
    },
    {
     "data": {
      "image/png": "[encoded data removed]",
      "text/plain": [
       "<Figure size 432x288 with 1 Axes>"
      ]
     },
     "metadata": {
      "needs_background": "light"
     },
     "output_type": "display_data"
    },
    {
     "data": {
      "image/png": "[encoded data removed]",
      "text/plain": [
       "<Figure size 432x288 with 1 Axes>"
      ]
     },
     "metadata": {
      "needs_background": "light"
     },
     "output_type": "display_data"
    }
   ],
   "source": [
    "plt.figure(1)\n",
    "plt.title('Arrivals Station: ' + \n",
    "    currentBikeStation.getStationId())\n",
    "plt.hist(Arrivals)\n",
    "print(np.mean(Arrivals))\n",
    "\n",
    "plt.figure(2)\n",
    "plt.title(\n",
    "    'Departures Station: ' + \n",
    "    currentBikeStation.getStationId())\n",
    "plt.hist(Departures)\n",
    "print(np.mean(Departures))"
   ]
  },
  {
   "cell_type": "code",
   "execution_count": 147,
   "metadata": {},
   "outputs": [],
   "source": [
    "ahist, abin_edges = \\\n",
    "    np.histogram(\n",
    "        Arrivals, bins=24 * 8,\n",
    "        density=True,\n",
    "        range=(0.0, 24.0))\n",
    "ahist = np.append(ahist, [0.0])"
   ]
  },
  {
   "cell_type": "code",
   "execution_count": 148,
   "metadata": {},
   "outputs": [],
   "source": [
    "dhist, dbin_edges = \\\n",
    "    np.histogram(\n",
    "        Departures, bins=24 * 8,\n",
    "        density=True,\n",
    "        range=(0.0, 24.0))\n",
    "dhist = np.append(dhist, [0.0])"
   ]
  },
  {
   "cell_type": "code",
   "execution_count": 149,
   "metadata": {},
   "outputs": [
    {
     "data": {
      "text/plain": [
       "[<matplotlib.lines.Line2D at 0x241419254e0>]"
      ]
     },
     "execution_count": 149,
     "metadata": {},
     "output_type": "execute_result"
    },
    {
     "data": {
      "image/png": "[encoded data removed]",
      "text/plain": [
       "<Figure size 432x288 with 1 Axes>"
      ]
     },
     "metadata": {
      "needs_background": "light"
     },
     "output_type": "display_data"
    }
   ],
   "source": [
    "x =\\\n",
    "currentBikeStation.stationCDFArrivals\\\n",
    ".wkDayDepartures_cdf[C_WEEKDAY][0]\n",
    "\n",
    "y =\\\n",
    "currentBikeStation.stationCDFArrivals\\\n",
    ".wkDayDepartures_cdf[C_WEEKDAY][1]\n",
    "\n",
    "acdf = BSCDF.computeCDF(\n",
    "            ahist,abin_edges)\n",
    "\n",
    "plt.plot(x/3600,y)\n",
    "plt.plot(24.0*np.arange(len(acdf))/len(acdf), acdf)"
   ]
  },
  {
   "cell_type": "code",
   "execution_count": 150,
   "metadata": {},
   "outputs": [
    {
     "data": {
      "text/plain": [
       "[<matplotlib.lines.Line2D at 0x24142d31be0>]"
      ]
     },
     "execution_count": 150,
     "metadata": {},
     "output_type": "execute_result"
    },
    {
     "data": {
      "image/png": "[encoded data removed]",
      "text/plain": [
       "<Figure size 432x288 with 1 Axes>"
      ]
     },
     "metadata": {
      "needs_background": "light"
     },
     "output_type": "display_data"
    }
   ],
   "source": [
    "x =\\\n",
    "currentBikeStation.stationCDFDepartures\\\n",
    ".wkDayDepartures_cdf[C_WEEKDAY][0]\n",
    "\n",
    "y =\\\n",
    "currentBikeStation.stationCDFDepartures\\\n",
    ".wkDayDepartures_cdf[C_WEEKDAY][1]\n",
    "\n",
    "dcdf = BSCDF.computeCDF(\n",
    "            dhist,dbin_edges)\n",
    "\n",
    "plt.plot(x/3600,y)\n",
    "plt.plot(24.0*np.arange(len(dcdf))/len(dcdf), dcdf)"
   ]
  },
  {
   "cell_type": "code",
   "execution_count": null,
   "metadata": {},
   "outputs": [],
   "source": []
  },
  {
   "cell_type": "code",
   "execution_count": null,
   "metadata": {},
   "outputs": [],
   "source": []
  },
  {
   "cell_type": "code",
   "execution_count": null,
   "metadata": {},
   "outputs": [],
   "source": []
  },
  {
   "cell_type": "code",
   "execution_count": null,
   "metadata": {},
   "outputs": [],
   "source": []
  }
 ],
 "metadata": {
  "kernelspec": {
   "display_name": "Python 3",
   "language": "python",
   "name": "python3"
  },
  "language_info": {
   "codemirror_mode": {
    "name": "ipython",
    "version": 3
   },
   "file_extension": ".py",
   "mimetype": "text/x-python",
   "name": "python",
   "nbconvert_exporter": "python",
   "pygments_lexer": "ipython3",
   "version": "3.7.3"
  }
 },
 "nbformat": 4,
 "nbformat_minor": 2
}
