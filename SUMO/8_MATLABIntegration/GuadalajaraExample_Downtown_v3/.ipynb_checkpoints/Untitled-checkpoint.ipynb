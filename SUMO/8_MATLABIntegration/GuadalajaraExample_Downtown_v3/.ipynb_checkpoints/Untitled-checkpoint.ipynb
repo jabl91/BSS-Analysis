{
 "cells": [
  {
   "cell_type": "code",
   "execution_count": 6,
   "metadata": {},
   "outputs": [],
   "source": [
    "import re\n",
    "\n",
    "myString = '4207.14,5823.93 4215.17,5824.26'"
   ]
  },
  {
   "cell_type": "code",
   "execution_count": 7,
   "metadata": {},
   "outputs": [],
   "source": [
    "# myPoints = re.split('(\\d+.?\\d+),\\s?(\\d+.?\\d+)',myString)\n",
    "#myPoints = re.split('(\\d+.?\\d+),(\\d+.?\\d+)\\s(\\d+.?\\d+),(\\d+.?\\d+)',myString)\n",
    "myPoints = myString.split()"
   ]
  },
  {
   "cell_type": "code",
   "execution_count": 8,
   "metadata": {},
   "outputs": [
    {
     "name": "stdout",
     "output_type": "stream",
     "text": [
      "['', '4207.14', '5823.93', '4215.17', '5824.26', '']\n"
     ]
    }
   ],
   "source": [
    "print(myPoints)"
   ]
  },
  {
   "cell_type": "code",
   "execution_count": 9,
   "metadata": {},
   "outputs": [
    {
     "name": "stdout",
     "output_type": "stream",
     "text": [
      "[4207.14, 5823.93, 4215.17, 5824.26]\n"
     ]
    }
   ],
   "source": [
    "newList = list(map(float,myPoints[1:5]))\n",
    "print(newList)"
   ]
  },
  {
   "cell_type": "code",
   "execution_count": 10,
   "metadata": {},
   "outputs": [
    {
     "name": "stdout",
     "output_type": "stream",
     "text": [
      "[4207.140420714, 5823.930582393001, 4215.170421517, 5824.260582426001]\n"
     ]
    }
   ],
   "source": [
    "newList = [i * 1.0000001 for i in newList]\n",
    "print(newList)"
   ]
  },
  {
   "cell_type": "code",
   "execution_count": 13,
   "metadata": {},
   "outputs": [
    {
     "name": "stdout",
     "output_type": "stream",
     "text": [
      "['4207.14', '5823.93', '4215.17', '5824.26']\n"
     ]
    }
   ],
   "source": [
    "print(['{:.2f}'.format(item) for item in newList])"
   ]
  },
  {
   "cell_type": "code",
   "execution_count": null,
   "metadata": {},
   "outputs": [],
   "source": []
  }
 ],
 "metadata": {
  "kernelspec": {
   "display_name": "Python 3",
   "language": "python",
   "name": "python3"
  },
  "language_info": {
   "codemirror_mode": {
    "name": "ipython",
    "version": 3
   },
   "file_extension": ".py",
   "mimetype": "text/x-python",
   "name": "python",
   "nbconvert_exporter": "python",
   "pygments_lexer": "ipython3",
   "version": "3.7.0"
  }
 },
 "nbformat": 4,
 "nbformat_minor": 2
}
