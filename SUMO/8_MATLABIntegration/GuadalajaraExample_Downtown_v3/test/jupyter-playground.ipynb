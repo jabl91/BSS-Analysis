{
 "cells": [
  {
   "cell_type": "code",
   "execution_count": 21,
   "metadata": {},
   "outputs": [],
   "source": [
    "import xml.etree.ElementTree as ET\n",
    "import sys\n",
    "import math\n",
    "\n",
    "sys.path.append('../')\n",
    "from Geometry import GeometryClass"
   ]
  },
  {
   "cell_type": "code",
   "execution_count": 22,
   "metadata": {},
   "outputs": [],
   "source": [
    "tree = ET.parse('../main.net.xml')\n",
    "root = tree.getroot()"
   ]
  },
  {
   "cell_type": "code",
   "execution_count": 23,
   "metadata": {},
   "outputs": [],
   "source": [
    "#root.tag"
   ]
  },
  {
   "cell_type": "code",
   "execution_count": 24,
   "metadata": {},
   "outputs": [],
   "source": [
    "#root.attrib"
   ]
  },
  {
   "cell_type": "code",
   "execution_count": 25,
   "metadata": {},
   "outputs": [],
   "source": [
    "# Retrieve a dictonary (loc_xy) which keys correspond to the name of\n",
    "# the edges and the values are the relative SUMO map\n",
    "# location (x,y pair).\n",
    "# Note: The location of the edge is only considered for one of\n",
    "# the end, start points of that edge.\n",
    "loc_xy = {}\n",
    "for child in root.findall('edge'):\n",
    "    if(child.attrib.get('shape',[])):\n",
    "        loc_xy[child.attrib['id']] = [\\\n",
    "            (float(child.attrib['shape'].split(' ')[0].split(',')[0]) +\\\n",
    "            float(child.attrib['shape'].split(' ')[-1].split(',')[0]))/2 ,\\\n",
    "            (float(child.attrib['shape'].split(' ')[0].split(',')[1]) +\\\n",
    "            float(child.attrib['shape'].split(' ')[-1].split(',')[1]))/2 ]\n",
    "        \n",
    "    elif (child.findall('lane')[0].attrib.get('shape',[])):\n",
    "        shapeParam = child.findall('lane')[0].attrib.get('shape',[]).split(' ')\n",
    "        loc_xy[child.attrib['id']] = [\\\n",
    "            (float(shapeParam[0].split(',')[0]) +\\\n",
    "            float(shapeParam[-1].split(',')[0])) /2 ,\\\n",
    "            (float(shapeParam[0].split(',')[1]) +\\\n",
    "            float(shapeParam[-1].split(',')[1]))/2 ]\n"
   ]
  },
  {
   "cell_type": "code",
   "execution_count": 26,
   "metadata": {},
   "outputs": [
    {
     "data": {
      "text/plain": [
       "[3136.7650000000003, 4924.235]"
      ]
     },
     "execution_count": 26,
     "metadata": {},
     "output_type": "execute_result"
    }
   ],
   "source": [
    "loc_xy['endEdge']"
   ]
  },
  {
   "cell_type": "code",
   "execution_count": 27,
   "metadata": {},
   "outputs": [],
   "source": [
    "\n",
    "# Information about the relative map location and\n",
    "# the real latitude and longitude of the points needs\n",
    "# to be retrived.\n",
    "# geo_loc_xy is an array that contains the (0,0) position\n",
    "# with respect to the real latitude and longitude.\n",
    "# delta_geo_xy is the difference between geo_loc_xy points\n",
    "# and the opposite corner of the map\n",
    "# MapLimits correspond to the SUMO relative size of the map\n",
    "# represented as (x,y pair)\n",
    "GEO_Y_OFFSET = 0.0003\n",
    "\n",
    "for child in root.findall('location'):\n",
    "    #print(child.attrib.get('origBoundary').split(','))\n",
    "    geo_loc_xy = [\\\n",
    "        float(child.attrib.get('origBoundary').split(',')[0]),\\\n",
    "        float(child.attrib.get('origBoundary').split(',')[1]) + GEO_Y_OFFSET]\n",
    "    #delta_geo_xy = [ 0.110373, 0.114781]\n",
    "    delta_geo_xy = [\\\n",
    "        float(child.attrib.get('origBoundary').split(',')[2]) -\\\n",
    "        float(child.attrib.get('origBoundary').split(',')[0]),\\\n",
    "        float(child.attrib.get('origBoundary').split(',')[3]) -\\\n",
    "        float(child.attrib.get('origBoundary').split(',')[1])]\n",
    "    delta_geo_xy = [abs(s) for s in delta_geo_xy]\n",
    "    #MapLimits = [11535.26, 12717.13]\n",
    "    MapLimits = [\\\n",
    "        float(child.attrib.get('convBoundary').split(',')[2]),\\\n",
    "        float(child.attrib.get('convBoundary').split(',')[3])]\n",
    "    break\n",
    "#print(geo_loc_xy)\n",
    "#print(delta_geo_xy)\n",
    "#print(MapLimits)"
   ]
  },
  {
   "cell_type": "code",
   "execution_count": 28,
   "metadata": {},
   "outputs": [],
   "source": [
    "# The following array is the relationship of a SUMO\n",
    "# (x,y) point into a real latitude, longitude pair\n",
    "# These values shall be multiplied by the relative\n",
    "# SUMO (x,y) pair of interest\n",
    "Conversion_map2geo = [delta_geo_xy[0]/MapLimits[0],\\\n",
    "                      delta_geo_xy[1]/MapLimits[1]]\n",
    "#Conversion_map2geo"
   ]
  },
  {
   "cell_type": "code",
   "execution_count": 29,
   "metadata": {},
   "outputs": [],
   "source": [
    "def relativeSUMO_xy2geo(conversionFactor, initialGeoCoordinates, relativeSUMOPoint):\n",
    "    return [(s * conversionFactor[i]) + initialGeoCoordinates[i] for i,s in enumerate(relativeSUMOPoint)]"
   ]
  },
  {
   "cell_type": "code",
   "execution_count": 30,
   "metadata": {},
   "outputs": [],
   "source": [
    "#print(relativeSUMO_xy2geo(Conversion_map2geo, geo_loc_xy, loc_xy.get('endEdge', [])))"
   ]
  },
  {
   "cell_type": "code",
   "execution_count": 31,
   "metadata": {},
   "outputs": [],
   "source": [
    "#EdgeToGeoPosition = {} \n",
    "#for EdgeName in loc_xy.keys():\n",
    "#    print(relativeSUMO_xy2geo(Conversion_map2geo, geo_loc_xy, loc_xy.get(EdgeName, [])))"
   ]
  },
  {
   "cell_type": "code",
   "execution_count": 32,
   "metadata": {},
   "outputs": [],
   "source": [
    "#loc_xy.get('startEdge', [])"
   ]
  },
  {
   "cell_type": "code",
   "execution_count": 33,
   "metadata": {},
   "outputs": [],
   "source": [
    "#GeometryClass.getDistance([0,0],[5,5])"
   ]
  },
  {
   "cell_type": "code",
   "execution_count": 34,
   "metadata": {},
   "outputs": [],
   "source": [
    "treePoly = ET.parse('../main.poly.xml')\n",
    "rootPoly = treePoly.getroot()\n",
    "\n",
    "treeNet = ET.parse('../main.net.xml')\n",
    "rootNet = treeNet.getroot()"
   ]
  },
  {
   "cell_type": "code",
   "execution_count": 35,
   "metadata": {},
   "outputs": [],
   "source": [
    "bikeStations = []\n",
    "\n",
    "dict_BikeStations = {}\n",
    "\n",
    "with open(\"../EstacionesMIBICI.txt\", \"r\") as bikeStationsFile:\n",
    "    line = bikeStationsFile.readline()\n",
    "    while line:\n",
    "        myType, value = line.strip().split(':')\n",
    "        bikeStations.append(str(value))\n",
    "        line = bikeStationsFile.readline()"
   ]
  },
  {
   "cell_type": "code",
   "execution_count": 36,
   "metadata": {},
   "outputs": [],
   "source": [
    "bikeStations_XY = []\n",
    "for poi in rootPoly.iter('poi'):\n",
    "    for station in bikeStations:\n",
    "        if poi.attrib.get('id') == station:\n",
    "            bikeStations_XY.append([\n",
    "                float(poi.attrib.get('x')),\n",
    "                float(poi.attrib.get('y'))])\n",
    "            \n",
    "#print(bikeStations_XY)\n",
    "#print(relativeSUMO_xy2geo(Conversion_map2geo, geo_loc_xy, bikeStations_XY[10]))\n",
    "\n",
    "#dict_BikeStations = zip(bikeStations, bikeStations_XY)\n",
    "#print(dict_BikeStations)"
   ]
  },
  {
   "cell_type": "code",
   "execution_count": 37,
   "metadata": {},
   "outputs": [],
   "source": [
    "bikeStationsEdges = []\n",
    "\n",
    "for curBiSt in bikeStations_XY:\n",
    "    _, _, mapLimitX, mapLimitY = \\\n",
    "            rootNet.find('location'). \\\n",
    "            get('convBoundary').split(\",\")\n",
    "    \n",
    "    minedgeDistance = \\\n",
    "        GeometryClass.getDistance(\\\n",
    "            [0,0],\\\n",
    "            [float(mapLimitX), float(mapLimitY)])\n",
    "    \n",
    "    # print(minedgeDistance)\n",
    "    \n",
    "    for edge in rootNet.findall('edge'):\n",
    "        if(edge.attrib.get('shape') is not None):\n",
    "            shape = edge.attrib.get('shape').split(\" \")\n",
    "        elif (edge.findall('lane')[0].attrib.get('shape') is not None):\n",
    "            shape = edge.findall('lane')[0].attrib.get('shape').split(\" \")\n",
    "            #print(shape)\n",
    "        else:\n",
    "            raise\n",
    "            \n",
    "        X1, Y1 = shape[0].split(\",\")\n",
    "        X1s, Y1s = shape[-1].split(\",\")\n",
    "\n",
    "        X1 = (float(X1) + float(X1s))/2\n",
    "        Y1 = (float(Y1) + float(Y1s))/2\n",
    "\n",
    "        tempDistance = \\\n",
    "            GeometryClass.getDistance(\\\n",
    "                [float(X1),float(Y1)],\\\n",
    "                [float(curBiSt[0]),float(curBiSt[1])])\n",
    "\n",
    "        if((tempDistance < minedgeDistance) &\\\n",
    "            ('cluster' not in edge.attrib.get('id')) &\n",
    "          (':' not in edge.attrib.get('id'))):\n",
    "            minedgeDistance = tempDistance\n",
    "            nearestEdge = edge.attrib.get('id')\n",
    "    bikeStationsEdges.append(nearestEdge)\n",
    "\n",
    "#print(bikeStationsEdges)"
   ]
  },
  {
   "cell_type": "code",
   "execution_count": 38,
   "metadata": {},
   "outputs": [],
   "source": [
    "#print(relativeSUMO_xy2geo(Conversion_map2geo, geo_loc_xy, loc_xy.get('-119417247#2', [])))"
   ]
  },
  {
   "cell_type": "code",
   "execution_count": 39,
   "metadata": {},
   "outputs": [],
   "source": [
    "#for bkStEdge in bikeStationsEdges:\n",
    "#    print(loc_xy.get(bkStEdge, []))\n",
    "#    print(relativeSUMO_xy2geo(Conversion_map2geo, geo_loc_xy, loc_xy.get(bkStEdge, [])))"
   ]
  },
  {
   "cell_type": "code",
   "execution_count": 40,
   "metadata": {},
   "outputs": [
    {
     "data": {
      "text/plain": [
       "{2: '-119417247#2',\n",
       " 9: '-119417247#4',\n",
       " 80: '-125565889#2',\n",
       " 81: '298742258#4',\n",
       " 77: '298742284#0',\n",
       " 75: '298742258#12',\n",
       " 78: '13865999#3',\n",
       " 74: '106463612#0',\n",
       " 76: '-82685235#7',\n",
       " 58: '406471828#1',\n",
       " 61: '33266147#1',\n",
       " 59: '119409677#4',\n",
       " 60: '-113540624#0',\n",
       " 57: '105538493#4',\n",
       " 62: '431593429#4',\n",
       " 53: '120209283#2',\n",
       " 50: '169515605',\n",
       " 51: '33266672#2',\n",
       " 54: '312688112#6',\n",
       " 56: '160435518',\n",
       " 55: '106327587#1',\n",
       " 52: '431593425#2',\n",
       " 38: '33266672#0',\n",
       " 36: '298742255#0',\n",
       " 37: '122601939',\n",
       " 34: '-132973777',\n",
       " 35: '105857074#1',\n",
       " 39: '105207833#14',\n",
       " 26: '312538668#21',\n",
       " 25: '33266644#12',\n",
       " 31: '406495001#1',\n",
       " 29: '217101880#3',\n",
       " 27: '431593415#4',\n",
       " 28: '431593415#9',\n",
       " 8: '217202641#4',\n",
       " 6: '406494993#4',\n",
       " 12: '154904493#6',\n",
       " 10: '431592588#4',\n",
       " 11: '312538668#25'}"
      ]
     },
     "execution_count": 40,
     "metadata": {},
     "output_type": "execute_result"
    }
   ],
   "source": [
    "#testEdge = relativeSUMO_xy2geo(Conversion_map2geo, geo_loc_xy, loc_xy.get('startEdge', []))\n",
    "stationGeoLocation = []\n",
    "with open(\"../BikeStationMapping.csv\", \"r\") as bikeStationMapping:\n",
    "    line = bikeStationMapping.readline()\n",
    "    line = bikeStationMapping.readline()\n",
    "    while line:\n",
    "        stationMap = line.split(',')\n",
    "        stationGeoLocation.append([ int(stationMap[0]), [float(stationMap[5]), float(stationMap[4])]])\n",
    "        #print(stationGeoLocation)\n",
    "        #print(GeometryClass.getDistance(stationGeoLocation,testEdge))\n",
    "        line = bikeStationMapping.readline()\n",
    "#print(stationGeoLocation)\n",
    "\n",
    "\n",
    "bikeStationInfo = {}\n",
    "for bkSta in bikeStationsEdges:\n",
    "    minDifference = 100\n",
    "    for i, geo in stationGeoLocation:\n",
    "        #print(\"Station \" + str(i) + ' has a location of ' + str(geo[0]) + ', ' + str(geo[1]))\n",
    "        dDifference = GeometryClass.getDistance(geo, relativeSUMO_xy2geo(Conversion_map2geo, geo_loc_xy, loc_xy.get(bkSta, [])))\n",
    "        #print(\"Distance from station to poi is: \" + str(dDifference))\n",
    "\n",
    "        if dDifference < minDifference:\n",
    "            minDifference = dDifference\n",
    "            minDifference_sID = i\n",
    "    bikeStationInfo[minDifference_sID] = bkSta\n",
    "    #print(\"Neareast station to poi is: \" + str(minDifference_sID ))\n",
    "bikeStationInfo"
   ]
  },
  {
   "cell_type": "code",
   "execution_count": null,
   "metadata": {},
   "outputs": [],
   "source": []
  }
 ],
 "metadata": {
  "kernelspec": {
   "display_name": "Python 3",
   "language": "python",
   "name": "python3"
  },
  "language_info": {
   "codemirror_mode": {
    "name": "ipython",
    "version": 3
   },
   "file_extension": ".py",
   "mimetype": "text/x-python",
   "name": "python",
   "nbconvert_exporter": "python",
   "pygments_lexer": "ipython3",
   "version": "3.7.3"
  }
 },
 "nbformat": 4,
 "nbformat_minor": 2
}
