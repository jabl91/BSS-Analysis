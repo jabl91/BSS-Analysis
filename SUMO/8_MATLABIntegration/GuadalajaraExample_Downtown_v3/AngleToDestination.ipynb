{
 "cells": [
  {
   "cell_type": "code",
   "execution_count": 48,
   "metadata": {},
   "outputs": [],
   "source": [
    "import math"
   ]
  },
  {
   "cell_type": "code",
   "execution_count": 49,
   "metadata": {},
   "outputs": [],
   "source": [
    "myList = [['3721.920', '5865.570'], ['3673.235', '5882.535'], ['3599.155', '5878.510'], ['3515.085', '5874.885'], ['3440.730', '5872.775'], ['3360.085', '5871.155'], ['3258.165', '5871.620'], ['3204.165', '5831.635'], ['3211.300', '5775.185'], ['3217.050', '5655.035'], ['3214.080', '5576.010'], ['3211.550', '5486.360'], ['3210.035', '5405.805'], ['3208.050', '5326.220'], ['3204.725', '5252.910'], ['3200.685', '5181.400'], ['3199.020', '5128.875'], ['3196.610', '5053.015'], ['3193.455', '4953.460'], ['3135.910', '4922.770']]"
   ]
  },
  {
   "cell_type": "code",
   "execution_count": 50,
   "metadata": {},
   "outputs": [
    {
     "name": "stdout",
     "output_type": "stream",
     "text": [
      "[['3721.920', '5865.570'], ['3673.235', '5882.535'], ['3599.155', '5878.510'], ['3515.085', '5874.885'], ['3440.730', '5872.775'], ['3360.085', '5871.155'], ['3258.165', '5871.620'], ['3204.165', '5831.635'], ['3211.300', '5775.185'], ['3217.050', '5655.035'], ['3214.080', '5576.010'], ['3211.550', '5486.360'], ['3210.035', '5405.805'], ['3208.050', '5326.220'], ['3204.725', '5252.910'], ['3200.685', '5181.400'], ['3199.020', '5128.875'], ['3196.610', '5053.015'], ['3193.455', '4953.460'], ['3135.910', '4922.770']]\n"
     ]
    }
   ],
   "source": [
    "print(myList)"
   ]
  },
  {
   "cell_type": "code",
   "execution_count": 51,
   "metadata": {},
   "outputs": [
    {
     "name": "stdout",
     "output_type": "stream",
     "text": [
      "[[3721.92, 5865.57], [3673.235, 5882.535], [3599.155, 5878.51], [3515.085, 5874.885], [3440.73, 5872.775], [3360.085, 5871.155], [3258.165, 5871.62], [3204.165, 5831.635], [3211.3, 5775.185], [3217.05, 5655.035], [3214.08, 5576.01], [3211.55, 5486.36], [3210.035, 5405.805], [3208.05, 5326.22], [3204.725, 5252.91], [3200.685, 5181.4], [3199.02, 5128.875], [3196.61, 5053.015], [3193.455, 4953.46], [3135.91, 4922.77]]\n"
     ]
    }
   ],
   "source": [
    "convertedList = []\n",
    "myListLength = len(myList)\n",
    "myList = [list(map(float, i)) for i in myList]\n",
    "print(myList)"
   ]
  },
  {
   "cell_type": "code",
   "execution_count": 52,
   "metadata": {},
   "outputs": [],
   "source": [
    "myradians = []\n",
    "curr_LinearEquations_m = []\n",
    "for i, element in enumerate(myList):\n",
    "    if(i < (myListLength-1)):\n",
    "        myradians.append(math.atan2(\n",
    "            myList[myListLength-1][1]-element[1], myList[myListLength-1][0]-element[0]))\n",
    "        if(myList[myListLength-1][0] != element[0]):\n",
    "            curr_LinearEquations_m.append(\n",
    "                (myList[myListLength-1][1]-element[1])\n",
    "                /(myList[myListLength-1][0]-element[0]))\n",
    "        else:\n",
    "            curr_LinearEquations_m.append(12000.0)"
   ]
  },
  {
   "cell_type": "code",
   "execution_count": 53,
   "metadata": {},
   "outputs": [
    {
     "name": "stdout",
     "output_type": "stream",
     "text": [
      "[-2.1269205816634043, -2.081170899403266, -2.02212734295861, -1.9497888232842708, -1.8812805246090378, -1.8029114221543776, -1.6989357959297942, -1.6457547812508386, -1.6590096350752137, -1.6811530169897981, -1.689895048684223, -1.704210135217676, -1.7230652706077836, -1.7477342238910132, -1.7762957385741251, -1.8162025366415795, -1.8679343228697978, -2.0069126766090393, -2.6516443469492192]\n",
      "[1.6088462654220899, 1.786190852835805, 2.0631415341773773, 2.511017340278234, 3.116609802506393, 4.230556484889031, 7.76123675923274, 13.315727785510195, 11.306738294203425, 9.024710377125912, 8.356658564666741, 7.450951877313548, 6.516492411467114, 5.5925977266426115, 4.797500544939318, 3.992744114241588, 3.265805736016466, 2.145716639209214, 0.5333217481970556]\n"
     ]
    }
   ],
   "source": [
    "print(myradians)\n",
    "print(curr_LinearEquations_m)"
   ]
  },
  {
   "cell_type": "code",
   "execution_count": 54,
   "metadata": {},
   "outputs": [
    {
     "name": "stdout",
     "output_type": "stream",
     "text": [
      "['-121.864', '-119.242', '-115.859', '-111.715', '-107.789', '-103.299', '-97.342', '-94.295', '-95.054', '-96.323', '-96.824', '-97.644', '-98.724', '-100.138', '-101.774', '-104.061', '-107.025', '-114.988', '-151.928']\n"
     ]
    }
   ],
   "source": [
    "mydegrees = [math.degrees(i) for i in myradians]\n",
    "mydegrees = ['{:.3f}'.format(item) for item in mydegrees]\n",
    "print(mydegrees)"
   ]
  },
  {
   "cell_type": "code",
   "execution_count": 55,
   "metadata": {},
   "outputs": [
    {
     "name": "stdout",
     "output_type": "stream",
     "text": [
      "([-16.975903614459494, 69048.52518072908], [0.058513869204280734, 5667.599807653413], [0.05099810578464254, 5694.959912574675], [0.035234187066644676, 5751.033837554844], [0.020207439198857435, 5803.246657725315], [0.020171518299312397, 5803.376983935254], [-0.0257841843467664, 5955.629126992182], [-44.37888198758655, 148028.89540375525], [-2.7499999999943157, 14606.259999981747], [57.37719298246242, -178930.26368423074], [17.609137055837348, -51021.16522842571], [-1142.6666666677127, 3675217.4933366925], [26.16226415094247, -78575.9786037706], [86.58974358972134, -272458.00692300557], [11.762208067940383, -32441.732250530244], [31.72682926828985, -96366.18653657631], [31.44642857140714, -95468.87892850288], [31.61299435028277, -96001.3988700574], [31.551219512192464, -95803.93970730859], [-0.19500317594748207, 5534.282409485469])\n"
     ]
    }
   ],
   "source": [
    "LinearEquations = [-16.975903614459494, 69048.52518072908], [0.058513869204280734, 5667.599807653413], [0.05099810578464254, 5694.959912574675], [0.035234187066644676, 5751.033837554844], [0.020207439198857435, 5803.246657725315], [0.020171518299312397, 5803.376983935254], [-0.0257841843467664, 5955.629126992182], [-44.37888198758655, 148028.89540375525], [-2.7499999999943157, 14606.259999981747], [57.37719298246242, -178930.26368423074], [17.609137055837348, -51021.16522842571], [-1142.6666666677127, 3675217.4933366925], [26.16226415094247, -78575.9786037706], [86.58974358972134, -272458.00692300557], [11.762208067940383, -32441.732250530244], [31.72682926828985, -96366.18653657631], [31.44642857140714, -95468.87892850288], [31.61299435028277, -96001.3988700574], [31.551219512192464, -95803.93970730859], [-0.19500317594748207, 5534.282409485469]\n",
    "print(LinearEquations)"
   ]
  },
  {
   "cell_type": "code",
   "execution_count": 56,
   "metadata": {},
   "outputs": [
    {
     "name": "stdout",
     "output_type": "stream",
     "text": [
      "[-16.975903614459494, 0.058513869204280734, 0.05099810578464254, 0.035234187066644676, 0.020207439198857435, 0.020171518299312397, -0.0257841843467664, -44.37888198758655, -2.7499999999943157, 57.37719298246242, 17.609137055837348, -1142.6666666677127, 26.16226415094247, 86.58974358972134, 11.762208067940383, 31.72682926828985, 31.44642857140714, 31.61299435028277, 31.551219512192464, -0.19500317594748207]\n"
     ]
    }
   ],
   "source": [
    "LinearEquations_m = [i[0] for i in LinearEquations]\n",
    "print(LinearEquations_m)"
   ]
  },
  {
   "cell_type": "code",
   "execution_count": 57,
   "metadata": {},
   "outputs": [
    {
     "name": "stdout",
     "output_type": "stream",
     "text": [
      "19 20\n"
     ]
    }
   ],
   "source": [
    "print(len(curr_LinearEquations_m), len(LinearEquations_m))"
   ]
  },
  {
   "cell_type": "code",
   "execution_count": 58,
   "metadata": {},
   "outputs": [
    {
     "name": "stdout",
     "output_type": "stream",
     "text": [
      "[-0.6149632861045852, 1.0019745294764975, 1.0685113480555424, 1.1565842128575925, 1.2401074396141507, 1.3185124483324184, 1.4684353303020392, -0.09748788191771629, -0.436984311864888, -0.09292992678453899, -0.062370951150621114, -0.1342889540570027, -0.11406455058206097, -0.1653896986083913, -0.12068531622148085, -0.213897575992805, -0.2653485952626958, -0.4044943323180784, -1.0491641305897876]\n"
     ]
    }
   ],
   "source": [
    "angle_radians = []\n",
    "for i, curr_m in enumerate(curr_LinearEquations_m):\n",
    "    # angle_radians.append(\n",
    "    #     abs((curr_m-LinearEquations_m[i])/(1 + (curr_m*LinearEquations_m[i]))))\n",
    "    angle_radians.append(\n",
    "         (curr_m-LinearEquations_m[i])/(1 + (curr_m*LinearEquations_m[i])))\n",
    "angle_radians = [math.atan(i) for i in angle_radians]\n",
    "print(angle_radians)"
   ]
  },
  {
   "cell_type": "code",
   "execution_count": 70,
   "metadata": {},
   "outputs": [
    {
     "name": "stdout",
     "output_type": "stream",
     "text": [
      "['-35.235', '57.409', '61.221', '66.267', '71.053', '75.545', '84.135', '-5.586', '-25.037', '-5.324', '-3.574', '-7.694', '-6.535', '-9.476', '-6.915', '-12.255', '-15.203', '-23.176', '-60.113']\n"
     ]
    }
   ],
   "source": [
    "angle_degrees = [math.degrees(i) for i in angle_radians]\n",
    "angle_degrees = ['{:.3f}'.format(item) for item in angle_degrees]\n",
    "print(angle_degrees)"
   ]
  },
  {
   "cell_type": "code",
   "execution_count": 73,
   "metadata": {},
   "outputs": [
    {
     "name": "stdout",
     "output_type": "stream",
     "text": [
      "['144.765', '57.409', '61.221', '66.267', '71.053', '75.545', '84.135', '5.586', '25.037', '5.324', '3.574', '7.694', '6.535', '9.476', '6.915', '12.255', '15.203', '23.176', '60.113']\n"
     ]
    }
   ],
   "source": [
    "final_degrees = [144.76519915071114, 57.4089117186098, 61.22119060541672, 66.26739404820049, 71.05292243266541, 75.5451985249086, 84.13514691420585, 5.585644187554942, 25.037356783286608, 5.324492595213959, 3.5735922651471634, 7.694190302692444, 6.5354173404086175, 9.476131705201526, 6.914759268692599, 12.255428352466518, 15.203354608277515, 23.17581807878807, 60.11267669930718]\n",
    "final_degrees = ['{:.3f}'.format(item) for item in final_degrees]\n",
    "print(final_degrees)"
   ]
  },
  {
   "cell_type": "code",
   "execution_count": 60,
   "metadata": {},
   "outputs": [],
   "source": [
    "# The angle recovered by Sumo considers 0 degrees as North Direction\n",
    "# an adjustment has to be done in order to relocate the zero to East"
   ]
  },
  {
   "cell_type": "code",
   "execution_count": 61,
   "metadata": {},
   "outputs": [
    {
     "name": "stdout",
     "output_type": "stream",
     "text": [
      "[  0.    15.94  31.88  47.82  63.76  79.7   95.64 111.58 127.52 143.46\n",
      " 159.4  175.34 191.28 207.22 223.16 239.1  255.04 270.98 286.92 302.86\n",
      " 318.8  334.74 350.68]\n"
     ]
    }
   ],
   "source": [
    "import numpy as np\n",
    "import random\n",
    "myAngles = np.arange(0,360,15+(random.randint(1,99)*0.01))\n",
    "print(myAngles)"
   ]
  },
  {
   "cell_type": "code",
   "execution_count": 62,
   "metadata": {},
   "outputs": [
    {
     "name": "stdout",
     "output_type": "stream",
     "text": [
      "[90.0, 105.94, 121.88, 137.82, 153.76, 169.7, 185.64, 201.57999999999998, 217.51999999999998, 233.46, 249.4, 265.34000000000003, 281.28, 297.22, 313.15999999999997, 329.1, 345.03999999999996, 0.9800000000000182, 16.920000000000016, 32.860000000000014, 48.80000000000001, 64.74000000000001, 80.68]\n"
     ]
    }
   ],
   "source": [
    "conversionAngles = [i+90 for i in myAngles]\n",
    "for counter, angle in enumerate(conversionAngles):\n",
    "    if angle>360:\n",
    "        conversionAngles[counter] = angle - 360\n",
    "print(conversionAngles)\n"
   ]
  },
  {
   "cell_type": "code",
   "execution_count": 65,
   "metadata": {},
   "outputs": [
    {
     "name": "stdout",
     "output_type": "stream",
     "text": [
      "[1, 2] [3, 4]\n"
     ]
    }
   ],
   "source": [
    "myArray2 = [1,2,3,4]\n",
    "print(myArray2[0:2], myArray2[2:4])"
   ]
  },
  {
   "cell_type": "code",
   "execution_count": 66,
   "metadata": {},
   "outputs": [
    {
     "name": "stdout",
     "output_type": "stream",
     "text": [
      "1.5707963267948966\n"
     ]
    }
   ],
   "source": [
    "print(math.acos())"
   ]
  },
  {
   "cell_type": "code",
   "execution_count": 68,
   "metadata": {},
   "outputs": [
    {
     "name": "stdout",
     "output_type": "stream",
     "text": [
      "-3.0427631578947367\n"
     ]
    }
   ],
   "source": [
    "print(-37/(6.08*2))"
   ]
  },
  {
   "cell_type": "code",
   "execution_count": 12,
   "metadata": {},
   "outputs": [
    {
     "name": "stdout",
     "output_type": "stream",
     "text": [
      "[1, 2, 3]\n",
      "None\n"
     ]
    }
   ],
   "source": [
    "myTest = {}\n",
    "myTest[\"Test1\"] = [1,2,3]\n",
    "\n",
    "print(myTest[\"Test1\"])\n",
    "\n",
    "list2 = [4,5,6]\n",
    "myList = myTest[\"Test1\"]\n",
    "myTest[\"Test1\"] = list(myTest[\"Test1\"]).append('1')\n",
    "\n",
    "print(myTest[\"Test1\"])"
   ]
  },
  {
   "cell_type": "code",
   "execution_count": 17,
   "metadata": {},
   "outputs": [
    {
     "data": {
      "text/plain": [
       "{'abc': [1, 2, 'bob'], 'somekey': [1, 2]}"
      ]
     },
     "execution_count": 17,
     "metadata": {},
     "output_type": "execute_result"
    }
   ],
   "source": [
    "a = {}\n",
    "a[\"abc\"] = [1, 2, \"bob\"]\n",
    "key = \"somekey\"\n",
    "a.setdefault(key, [])\n",
    "a[key].append(1)\n",
    "a\n",
    "key = \"somekey\"\n",
    "a.setdefault(key, [])\n",
    "a[key].append(2)\n",
    "a"
   ]
  },
  {
   "cell_type": "code",
   "execution_count": 18,
   "metadata": {},
   "outputs": [
    {
     "data": {
      "text/plain": [
       "{'abc': [1, 2, 'bob'], 'somekey': [1, 2]}"
      ]
     },
     "execution_count": 18,
     "metadata": {},
     "output_type": "execute_result"
    }
   ],
   "source": [
    "a = {}\n"
   ]
  },
  {
   "cell_type": "code",
   "execution_count": null,
   "metadata": {},
   "outputs": [],
   "source": []
  }
 ],
 "metadata": {
  "kernelspec": {
   "display_name": "Python 3",
   "language": "python",
   "name": "python3"
  },
  "language_info": {
   "codemirror_mode": {
    "name": "ipython",
    "version": 3
   },
   "file_extension": ".py",
   "mimetype": "text/x-python",
   "name": "python",
   "nbconvert_exporter": "python",
   "pygments_lexer": "ipython3",
   "version": "3.7.0"
  }
 },
 "nbformat": 4,
 "nbformat_minor": 2
}
