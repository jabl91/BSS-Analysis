{
 "cells": [
  {
   "cell_type": "code",
   "execution_count": 1,
   "metadata": {},
   "outputs": [],
   "source": [
    "\"\"\"This module serves as an interface with Pyota,\n",
    "\"\"\"\n",
    "\n",
    "from iota import Iota\n",
    "from iota import TryteString\n",
    "from iota import Address, ProposedTransaction, Tag, Transaction\n",
    "from iota import Bundle\n",
    "from iota import Address, ProposedBundle, ProposedTransaction\n",
    "from iota.crypto.signing import KeyGenerator\n",
    "\n",
    "import datetime\n",
    "import time\n",
    "import re"
   ]
  },
  {
   "cell_type": "code",
   "execution_count": 2,
   "metadata": {},
   "outputs": [],
   "source": [
    "class IOTAInterface:\n",
    "\n",
    "    def __init__(self):\n",
    "        \n",
    "        self.api = Iota('https://potato.iotasalad.org:14265','SMRUKAKOPAKXQSIKVZWQGQNKZZWL9BGEFJCIEBRJDIAGWFHUKAOSWACNC9JFDU9WHAPZBEIGWBU9VTNZS')\n",
    "\n",
    "        #print(self.api.get_node_info())"
   ]
  },
  {
   "cell_type": "code",
   "execution_count": 3,
   "metadata": {},
   "outputs": [
    {
     "name": "stdout",
     "output_type": "stream",
     "text": [
      "2018328\n",
      "WAUAVABBXAWABBB\n",
      "{'duration': 1, 'hashes': []}\n"
     ]
    }
   ],
   "source": [
    "    \n",
    "#if __name__ == \"__main__\":\n",
    "\n",
    "iterator = 1\n",
    "\n",
    "MyBatteryTimeStamp = time.localtime().tm_year*1000\n",
    "MyBatteryTimeStamp += time.localtime().tm_yday\n",
    "print(MyBatteryTimeStamp)\n",
    "\n",
    "TagToFind = TryteString.from_string(str(MyBatteryTimeStamp))\n",
    "TagToFind = str(TagToFind) + chr(ord('A') + iterator)\n",
    "print(TagToFind)\n",
    "\n",
    "myMonitor = IOTAInterface()\n",
    "myResults = myMonitor.api.find_transactions(tags = [str(TagToFind)])\n",
    "\n",
    "print(myResults)\n"
   ]
  },
  {
   "cell_type": "code",
   "execution_count": 4,
   "metadata": {},
   "outputs": [],
   "source": [
    "max = 0.0\n",
    "id = 0\n",
    "\n",
    "for idx, result in enumerate(myResults['hashes']):\n",
    "\n",
    "    #TestBundle = myMonitor.api.get_bundles(myResults['hashes'][0])\n",
    "    TestBundle = myMonitor.api.get_bundles(result)\n",
    "\n",
    "    currentTimestamp = TestBundle['bundles'][0].transactions[0].attachment_timestamp*0.001\n",
    "\n",
    "    print(currentTimestamp)\n",
    "\n",
    "    if currentTimestamp > max:\n",
    "        max = currentTimestamp\n",
    "        id = idx\n",
    "        message = TestBundle['bundles'][0].transactions[0].signature_message_fragment"
   ]
  },
  {
   "cell_type": "code",
   "execution_count": 5,
   "metadata": {},
   "outputs": [],
   "source": [
    "\n",
    "if max != 0.0:\n",
    "    print(max,id)\n",
    "    print(datetime.datetime.fromtimestamp(max).strftime('%c'))\n",
    "    print(TryteString.as_string(message))\n",
    "    \n",
    "    prog = re.compile(\"\\D+(\\d+)%\\D+(\\d+)\\D+is (\\w+)\\n\\D+(\\d+)\")\n",
    "    result = prog.match(TryteString.as_string(message))\n",
    "    \n",
    "    print(result.group(1))\n",
    "    print(result.group(2))\n",
    "    print(result.group(3))\n",
    "    print(result.group(4))\n",
    "    \n",
    "    CurrentBattery = {\"BatteryId\":int(result.group(4))}\n",
    "    CurrentBattery.update({\"Voltage\" : int(result.group(2))})\n",
    "    CurrentBattery.update({\"ChargingState\" : str(result.group(3))})\n",
    "    CurrentBattery.update({\"BatteryLevel\" : int(result.group(1))})\n",
    "    \n",
    "    Batteries = {str(CurrentBattery[\"BatteryId\"]):CurrentBattery}\n",
    "    print(Batteries)"
   ]
  },
  {
   "cell_type": "code",
   "execution_count": 6,
   "metadata": {},
   "outputs": [
    {
     "name": "stdout",
     "output_type": "stream",
     "text": [
      "WAUAVABBXAWABBA\n",
      "WAUAVABBXAWABBB\n",
      "WAUAVABBXAWABBC\n",
      "WAUAVABBXAWABBD\n",
      "WAUAVABBXAWABBE\n",
      "WAUAVABBXAWABBF\n",
      "WAUAVABBXAWABBG\n",
      "WAUAVABBXAWABBH\n",
      "WAUAVABBXAWABBI\n"
     ]
    }
   ],
   "source": [
    "for iterator in range(0,9):\n",
    "    TagToFind = TryteString.from_string(str(MyBatteryTimeStamp))\n",
    "    TagToFind = str(TagToFind) + chr(ord('A') + iterator)\n",
    "    print(TagToFind)"
   ]
  },
  {
   "cell_type": "code",
   "execution_count": null,
   "metadata": {},
   "outputs": [],
   "source": []
  }
 ],
 "metadata": {
  "kernelspec": {
   "display_name": "Python 3",
   "language": "python",
   "name": "python3"
  },
  "language_info": {
   "codemirror_mode": {
    "name": "ipython",
    "version": 3
   },
   "file_extension": ".py",
   "mimetype": "text/x-python",
   "name": "python",
   "nbconvert_exporter": "python",
   "pygments_lexer": "ipython3",
   "version": "3.5.6"
  }
 },
 "nbformat": 4,
 "nbformat_minor": 2
}
